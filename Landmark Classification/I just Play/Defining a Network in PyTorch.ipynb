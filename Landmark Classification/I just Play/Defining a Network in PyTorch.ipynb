{
 "cells": [
  {
   "cell_type": "code",
   "execution_count": 23,
   "id": "866391a5",
   "metadata": {},
   "outputs": [],
   "source": [
    "import torch.nn as nn\n",
    "import torch"
   ]
  },
  {
   "cell_type": "markdown",
   "id": "e3337dfb",
   "metadata": {},
   "source": [
    "# Basic Architecture"
   ]
  },
  {
   "cell_type": "code",
   "execution_count": 19,
   "id": "de3c9d48",
   "metadata": {},
   "outputs": [],
   "source": [
    "class Basic_NN(nn.Module):\n",
    "    def __init__(self,):\n",
    "        super(Basic_NN, self).__init__()\n",
    "        self.fc1 = nn.Linear(28 * 28, 10)\n",
    "        self.relu1 = nn.ReLU()\n",
    "        self.fc2 = nn.Linear(10, 1)\n",
    "        self.relu2 = nn.ReLU()\n",
    "    def forward(self, x):\n",
    "        # flatten Image input\n",
    "        x = x.view(-1, 28 * 28)\n",
    "        x = self.fc1(x)\n",
    "        x = self.relu1(x)\n",
    "        x = self.fc2(x)\n",
    "        x = self.relu2(x)\n",
    "        \n",
    "        return x\n",
    "        "
   ]
  },
  {
   "cell_type": "code",
   "execution_count": 20,
   "id": "5b6b96ac",
   "metadata": {},
   "outputs": [],
   "source": [
    "model = Basic_NN()"
   ]
  },
  {
   "cell_type": "markdown",
   "id": "200a72fd",
   "metadata": {},
   "source": [
    "# Using Sequential"
   ]
  },
  {
   "cell_type": "code",
   "execution_count": 27,
   "id": "36cc410f",
   "metadata": {},
   "outputs": [],
   "source": [
    "class NN_with_Seq(nn.Module):\n",
    "    def __init__(self):\n",
    "        super(NN_with_Seq, self).__init__()\n",
    "        \n",
    "        self.model = nn.Sequential(\n",
    "            nn.Linear(20, 10),\n",
    "            nn.ReLU(),\n",
    "            nn.Linear(10, 3)\n",
    "        )\n",
    "        \n",
    "    def forward(self, x):\n",
    "        return self.model(x)"
   ]
  },
  {
   "cell_type": "code",
   "execution_count": 28,
   "id": "6ddd97f9",
   "metadata": {},
   "outputs": [],
   "source": [
    "x = torch.rand(20)"
   ]
  },
  {
   "cell_type": "code",
   "execution_count": 29,
   "id": "ad0db0c4",
   "metadata": {},
   "outputs": [],
   "source": [
    "model = NN_with_Seq()"
   ]
  },
  {
   "cell_type": "code",
   "execution_count": 34,
   "id": "8ab32562",
   "metadata": {},
   "outputs": [
    {
     "data": {
      "text/plain": [
       "tensor([-0.2346,  0.2026,  0.1045], grad_fn=<ViewBackward0>)"
      ]
     },
     "execution_count": 34,
     "metadata": {},
     "output_type": "execute_result"
    }
   ],
   "source": [
    "model(x)"
   ]
  },
  {
   "cell_type": "markdown",
   "id": "dd24cf31",
   "metadata": {},
   "source": [
    "# MLP - Rules of Thumb"
   ]
  },
  {
   "cell_type": "code",
   "execution_count": 38,
   "id": "613e199b",
   "metadata": {},
   "outputs": [],
   "source": [
    "class MLP(nn.Module):\n",
    "    def __init__(self):\n",
    "        super(MLP, self).__init__()\n",
    "        \n",
    "        self.model = nn.Sequential(\n",
    "            # Input Layer\n",
    "            nn.Linear(784, 400),\n",
    "            nn.Dropout(0.5),\n",
    "            nn.ReLU(),\n",
    "            \n",
    "            # Hidden Layer\n",
    "            nn.Linear(400, 400),\n",
    "            nn.Dropout(0.5),\n",
    "            nn.ReLU(),\n",
    "            \n",
    "            # Output Layer\n",
    "            nn.Linear(400, 10)\n",
    "        )\n",
    "    def forward(self, x):\n",
    "        return self.model(x)"
   ]
  },
  {
   "cell_type": "code",
   "execution_count": 39,
   "id": "3df4943c",
   "metadata": {},
   "outputs": [],
   "source": [
    "model = MLP()"
   ]
  },
  {
   "cell_type": "code",
   "execution_count": 43,
   "id": "916f53fb",
   "metadata": {},
   "outputs": [
    {
     "data": {
      "text/plain": [
       "<generator object Module.parameters at 0x000001D94C7C83C0>"
      ]
     },
     "execution_count": 43,
     "metadata": {},
     "output_type": "execute_result"
    }
   ],
   "source": [
    "model.parameters()"
   ]
  },
  {
   "cell_type": "code",
   "execution_count": null,
   "id": "06dffa6a",
   "metadata": {},
   "outputs": [],
   "source": []
  }
 ],
 "metadata": {
  "kernelspec": {
   "display_name": "Python 3 (ipykernel)",
   "language": "python",
   "name": "python3"
  },
  "language_info": {
   "codemirror_mode": {
    "name": "ipython",
    "version": 3
   },
   "file_extension": ".py",
   "mimetype": "text/x-python",
   "name": "python",
   "nbconvert_exporter": "python",
   "pygments_lexer": "ipython3",
   "version": "3.11.4"
  }
 },
 "nbformat": 4,
 "nbformat_minor": 5
}
